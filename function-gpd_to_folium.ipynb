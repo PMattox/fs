{
 "cells": [
  {
   "cell_type": "code",
   "execution_count": 1,
   "id": "6089bf5b",
   "metadata": {},
   "outputs": [],
   "source": [
    "import geopandas as gpd\n",
    "import pandas as pd\n",
    "\n",
    "import folium"
   ]
  },
  {
   "cell_type": "code",
   "execution_count": null,
   "id": "51cde714",
   "metadata": {},
   "outputs": [],
   "source": [
    "def gdf_map(df, tooltip_columns):\n",
    "    \"\"\"\n",
    "    Plot a GeoDataFrame on a Folium map with specified tooltip columns.\n",
    "\n",
    "    Parameters:\n",
    "    - df: GeoDataFrame containing geometries and tooltip information.\n",
    "    - tooltip_columns: List of column names to be included in the tooltip.\n",
    "\n",
    "    Returns:\n",
    "    - folium.Map: Folium map with plotted GeoDataFrame.\n",
    "    \"\"\"\n",
    "    # Create a base map centered on Salt Lake City, UT\n",
    "    m = folium.Map(location=[40.7608, -111.8910], zoom_start=10)\n",
    "\n",
    "    # Set up the annotations for the tooltip\n",
    "    tooltip = folium.GeoJsonTooltip(\n",
    "        fields=tooltip_columns,\n",
    "        aliases=[f\"{column}:\" for column in tooltip_columns],\n",
    "        localize=True,\n",
    "        sticky=False,\n",
    "        labels=True,\n",
    "        style=\"\"\"\n",
    "            background-color: #F0EFEF;\n",
    "            border: 2px solid black;\n",
    "            border-radius: 3px;\n",
    "            box-shadow: 3px;\n",
    "        \"\"\",\n",
    "        max_width=800,\n",
    "    )\n",
    "\n",
    "    # Add the GeoDataFrame to the map with the specified tooltip\n",
    "    folium.GeoJson(\n",
    "        df,\n",
    "        style_function=lambda feature: {'fillColor': '#2196F3', 'color': '#2196F3'},\n",
    "        tooltip=tooltip\n",
    "    ).add_to(m)\n",
    "\n",
    "    # Find the bounds of the data and adjust the zoom to match\n",
    "    bounds = df.total_bounds.tolist()\n",
    "    m.fit_bounds([bounds[:2][::-1], bounds[2:][::-1]])\n",
    "\n",
    "    return m"
   ]
  },
  {
   "cell_type": "code",
   "execution_count": null,
   "id": "076dfb80",
   "metadata": {},
   "outputs": [],
   "source": [
    "# Example usage with 'saz' DataFrame\n",
    "map_with_tooltip = gdf_map(saz, ['schoolnm', 'districtnm','gradelow','gradehigh'])\n",
    "\n",
    "# Display the map\n",
    "map_with_tooltip"
   ]
  }
 ],
 "metadata": {
  "kernelspec": {
   "display_name": "Python 3 (ipykernel)",
   "language": "python",
   "name": "python3"
  },
  "language_info": {
   "codemirror_mode": {
    "name": "ipython",
    "version": 3
   },
   "file_extension": ".py",
   "mimetype": "text/x-python",
   "name": "python",
   "nbconvert_exporter": "python",
   "pygments_lexer": "ipython3",
   "version": "3.11.5"
  }
 },
 "nbformat": 4,
 "nbformat_minor": 5
}
