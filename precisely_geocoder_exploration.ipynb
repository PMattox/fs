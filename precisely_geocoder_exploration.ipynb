{
 "cells": [
  {
   "cell_type": "markdown",
   "id": "6ae13e2e",
   "metadata": {},
   "source": [
    "# Precisely geocoder exploration"
   ]
  },
  {
   "cell_type": "markdown",
   "id": "f6170b29",
   "metadata": {},
   "source": [
    "Working with [Precisely Data Experience sample GEOCODER](https://data.precisely.com/samples). Specifically, `School Boundaries USA` downloaded in Shape format.\n",
    "\n",
    "Schema:\n",
    "https://docs.google.com/spreadsheets/d/18CDcZxSHvGXVVMDstur1yrHyum8i4qA4/edit#gid=782773548\n",
    "    \n",
    "**NOTE**: You may use [nbviewer](https://nbviewer.org/) to view this notebook outside your local Jupyter environment.  "
   ]
  },
  {
   "cell_type": "code",
   "execution_count": null,
   "id": "38edab1a",
   "metadata": {},
   "outputs": [],
   "source": [
    "# IMPORTS\n",
    "import geopandas as gpd\n",
    "import pandas as pd\n",
    "\n",
    "import os\n",
    "import urllib.request\n",
    "import requests\n",
    "import shutil\n",
    "from pathlib import Path\n",
    "from zipfile import ZipFile\n",
    "\n",
    "import matplotlib.pyplot as plt\n",
    "from matplotlib import pyplot\n",
    "\n",
    "import folium\n",
    "\n",
    "from shapely.geometry import Point, Polygon"
   ]
  },
  {
   "cell_type": "markdown",
   "id": "524a830c",
   "metadata": {},
   "source": [
    "Authorization: Bearer {YOUR ACCESS TOKEN}\n",
    "GET https://api.precisely.com/typeahead/v1/locations?latitude={YOUR_LATITUDE}&longitude={YOUR_LONGITUDE}&searchText={YOUR_SEARCH_TEXT}"
   ]
  },
  {
   "cell_type": "code",
   "execution_count": 9,
   "id": "9be8e3c2",
   "metadata": {},
   "outputs": [
    {
     "name": "stdout",
     "output_type": "stream",
     "text": [
      "Failed to generate OAuth token. Status code: 401\n"
     ]
    }
   ],
   "source": [
    "import requests\n",
    "\n",
    "# Replace these values with your client ID and client secret\n",
    "client_id = \"ZTVh6d3s9Hw9ZYraTOuIzodWlsLdozg7\"\n",
    "client_secret = \"Y3FcHpdtBG0ZosuG\"\n",
    "access_token = \"WlRWaDZkM3M5SHc5WllyYVRPdUl6b2RXbHNMZG96Zzc6WTNGY0hwZHRCRzBab3N1Rw==\"\n",
    "\n",
    "# Token endpoint URL\n",
    "token_url = \"https://api.precisely.com/oauth/token\"\n",
    "\n",
    "# Parameters for the token request\n",
    "token_params = {\n",
    "    \"grant_type\": \"client_credentials\",\n",
    "    \"bearer\": access_token\n",
    "}\n",
    "\n",
    "# Make a POST request to the token endpoint\n",
    "response = requests.post(token_url, data=token_params)\n",
    "response = requests.post(header=to, data=token_params)\n",
    "\n",
    "\n",
    "# Check if the request was successful (status code 200)\n",
    "if response.status_code == 200:\n",
    "    token_data = response.json()\n",
    "    access_token = token_data[\"access_token\"]\n",
    "    print(\"OAuth Token:\", access_token)\n",
    "else:\n",
    "    print(\"Failed to generate OAuth token. Status code:\", response.status_code)\n"
   ]
  },
  {
   "cell_type": "code",
   "execution_count": 5,
   "id": "eb348dc8",
   "metadata": {},
   "outputs": [
    {
     "name": "stdout",
     "output_type": "stream",
     "text": [
      "Failed to retrieve data. Status code: 401\n"
     ]
    }
   ],
   "source": [
    "import requests\n",
    "\n",
    "# Replace these values with your access token, latitude, longitude, and search text\n",
    "access_token = \"WlRWaDZkM3M5SHc5WllyYVRPdUl6b2RXbHNMZG96Zzc6WTNGY0hwZHRCRzBab3N1Rw==\"\n",
    "latitude = \"38.627003\"\n",
    "longitude = \"-90.199402\"\n",
    "search_text = \"Saint Louis\"\n",
    "\n",
    "# URL for the API endpoint\n",
    "url = f\"https://api.precisely.com/typeahead/v1/locations?latitude={latitude}&longitude={longitude}&searchText={search_text}\"\n",
    "\n",
    "# Headers with Authorization token\n",
    "headers = {\n",
    "    \"Authorization\": f\"Bearer {access_token}\"\n",
    "}\n",
    "\n",
    "# Make the GET request with authorization headers\n",
    "response = requests.get(url, headers=headers)\n",
    "\n",
    "# Check if the request was successful (status code 200)\n",
    "if response.status_code == 200:\n",
    "    data = response.json()\n",
    "    print(\"API Response:\", data)\n",
    "else:\n",
    "    print(\"Failed to retrieve data. Status code:\", response.status_code)\n"
   ]
  },
  {
   "cell_type": "code",
   "execution_count": null,
   "id": "9e56f9f9",
   "metadata": {},
   "outputs": [],
   "source": []
  },
  {
   "cell_type": "code",
   "execution_count": 1,
   "id": "babd1fcc",
   "metadata": {},
   "outputs": [
    {
     "name": "stdout",
     "output_type": "stream",
     "text": [
      "Failed to retrieve geocoding data. Status code: 401\n"
     ]
    }
   ],
   "source": [
    "import requests\n",
    "\n",
    "url = \"https://api.precisely.com/geocode/v1/advanced/geocode\"\n",
    "\n",
    "# Parameters for the GET request\n",
    "params = {\n",
    "    \"country\": \"USA\",\n",
    "    \"mainAddress\": \"4750 Walnut St., Boulder CO, 80301\",\n",
    "    \"matchMode\": \"Standard\",\n",
    "    \"fallbackGeo\": \"true\",\n",
    "    \"fallbackPostal\": \"true\",\n",
    "    \"maxCands\": 1,\n",
    "    \"streetOffset\": 7,\n",
    "    \"streetOffsetUnits\": \"METERS\",\n",
    "    \"cornerOffset\": 7,\n",
    "    \"cornerOffsetUnits\": \"METERS\"\n",
    "}\n",
    "\n",
    "# Make the GET request\n",
    "response = requests.get(url, params=params)\n",
    "\n",
    "# Check if the request was successful (status code 200)\n",
    "if response.status_code == 200:\n",
    "    data = response.json()\n",
    "    print(\"Geocoding result:\", data)\n",
    "else:\n",
    "    print(\"Failed to retrieve geocoding data. Status code:\", response.status_code)\n"
   ]
  },
  {
   "cell_type": "code",
   "execution_count": null,
   "id": "c8ae26c2",
   "metadata": {},
   "outputs": [],
   "source": []
  },
  {
   "cell_type": "code",
   "execution_count": null,
   "id": "ac9e4ed4",
   "metadata": {},
   "outputs": [],
   "source": []
  },
  {
   "cell_type": "code",
   "execution_count": null,
   "id": "a4c70375",
   "metadata": {},
   "outputs": [],
   "source": []
  },
  {
   "cell_type": "code",
   "execution_count": 3,
   "id": "5b0497d6",
   "metadata": {},
   "outputs": [
    {
     "data": {
      "text/plain": [
       "401"
      ]
     },
     "execution_count": 3,
     "metadata": {},
     "output_type": "execute_result"
    }
   ],
   "source": [
    "import requests\n",
    "\n",
    "token_url = \"https://api.precisely.com/oauth/token\"\n",
    "\n",
    "\n",
    "r = requests.post(token_url\n",
    "                 , headers={'BEARER': 'WlRWaDZkM3M5SHc5WllyYVRPdUl6b2RXbHNMZG96Zzc6WTNGY0hwZHRCRzBab3N1Rw'})\n",
    "r.status_code\n"
   ]
  },
  {
   "cell_type": "code",
   "execution_count": 8,
   "id": "f3a5cf6a",
   "metadata": {},
   "outputs": [
    {
     "name": "stdout",
     "output_type": "stream",
     "text": [
      "Error: 401\n",
      "{\"errors\":[{\"errorCode\":\"PB-APIM-ERR-1002\",\"errorDescription\":\"Invalid Access Token\"}]}\n"
     ]
    }
   ],
   "source": [
    "import requests\n",
    "\n",
    "# Define your API key\n",
    "api_key = \"WlRWaDZkM3M5SHc5WllyYVRPdUl6b2RXbHNMZG96Zzc6WTNGY0hwZHRCRzBab3N1Rw==\"\n",
    "\n",
    "# Define the URL for the API endpoint\n",
    "url = 'https://api.precisely.com/geocode/v1/advanced/geocode'\n",
    "\n",
    "# Define the query parameters\n",
    "params = {\n",
    "    'country': 'USA',\n",
    "    'mainAddress': '4750 Walnut St., Boulder CO, 80301',\n",
    "    'matchMode': 'Standard',\n",
    "    'fallbackGeo': True,\n",
    "    'fallbackPostal': True,\n",
    "    'maxCands': 1,\n",
    "    'streetOffset': 7,\n",
    "    'streetOffsetUnits': 'METERS',\n",
    "    'cornerOffset': 7,\n",
    "    'cornerOffsetUnits': 'METERS'\n",
    "}\n",
    "\n",
    "# Add the API key to the headers\n",
    "headers = {'BEARER': api_key}\n",
    "\n",
    "# Make the API request\n",
    "response = requests.get(url, params=params, headers=headers)\n",
    "\n",
    "# Check if the request was successful\n",
    "if response.status_code == 200:\n",
    "    # Print the response data\n",
    "    print(response.json())\n",
    "else:\n",
    "    # Print an error message if the request failed\n",
    "    print(f'Error: {response.status_code}')\n",
    "    print(response.text)\n"
   ]
  },
  {
   "cell_type": "code",
   "execution_count": null,
   "id": "a1825875",
   "metadata": {},
   "outputs": [],
   "source": []
  }
 ],
 "metadata": {
  "kernelspec": {
   "display_name": "Python 3 (ipykernel)",
   "language": "python",
   "name": "python3"
  },
  "language_info": {
   "codemirror_mode": {
    "name": "ipython",
    "version": 3
   },
   "file_extension": ".py",
   "mimetype": "text/x-python",
   "name": "python",
   "nbconvert_exporter": "python",
   "pygments_lexer": "ipython3",
   "version": "3.11.5"
  }
 },
 "nbformat": 4,
 "nbformat_minor": 5
}
